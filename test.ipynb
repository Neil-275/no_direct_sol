{
 "cells": [
  {
   "cell_type": "markdown",
   "id": "0ac58924",
   "metadata": {},
   "source": [
    "# API URL"
   ]
  },
  {
   "cell_type": "code",
   "execution_count": 1,
   "id": "9f889e8c",
   "metadata": {},
   "outputs": [],
   "source": [
    "base_url = \"http://localhost:8080/\""
   ]
  },
  {
   "cell_type": "markdown",
   "id": "3cbee8d1",
   "metadata": {},
   "source": [
    "# Example usage with text"
   ]
  },
  {
   "cell_type": "code",
   "execution_count": null,
   "id": "672528cc",
   "metadata": {},
   "outputs": [],
   "source": [
    "import requests\n",
    "import json\n",
    "\n",
    "# URL bạn nhận được sau khi triển khai Cloud Run\n",
    "api_url = base_url + \"generate\"\n",
    "\n",
    "\n",
    "# Prompt bạn muốn gửi\n",
    "user_prompt = \"\"\"Problem:\\n                Julia was preparing for a dinner party at her house, where she intended to serve stew.  She noticed that she was out of plastic spoons, so she bought a new package of spoons.  Later, her husband also bought a package of 5 new spoons and gave them to Julia.  While Julia was making the stew, she used three of the spoons to sample her stew.  Later, when she went to set the table, she had a total of 12 spoons.  How many spoons were in the package that Julia bought?\\n\\n                Ground truth solution:\\n                The total number of spoons from Julia and her husband was 12+3=15 spoons.\\nSince the husband bought a package of five spoons, then Julia's package contained 15-5=10 spoons.\\n 10\\n\\n                Dialogue history:\\n                Teacher: Hi Mariana, please talk me through your solution\\nStudent: Sure. I started by letting x be the number of spoons Julia bought. Then I added 5 to x to get the total number of spoons. Next, I subtracted 3 from the total number of spoons to get the number of spoons left. Finally, I set up an equation and solved for x, which was 4. So Julia bought a package of 4 spoons.\\nTeacher: Okay -  you've overcomplicated this. Let's start again. We know Julia has 12 spoons when setting the table. We also know she used three whilst sampling her stew. How many is that altogether?\\nStudent: 12 - 3 = 9. So Julia had 9 spoons left when setting the table.\\nTeacher: No, you need to add as she still has the spoons, 3 have just been used\\nStudent: Oh, right. 12 + 3 = 15. So Julia had 15 spoons altogether. And since her husband gave her 5 spoons, she must have bought 10 spoons.\\n\\n                Generate the next teacher response:\"\"\"\n",
    "\n",
    "# Dữ liệu gửi đi dưới dạng JSON\n",
    "payload = {\"prompt\": user_prompt, \"language\": \"Tiếng Việt\"}\n",
    "\n",
    "# Gửi yêu cầu POST\n",
    "response = requests.post(api_url, json=payload)\n",
    "\n",
    "if response.status_code == 200:\n",
    "    # In kết quả\n",
    "    result = response.json()\n",
    "    print(result.get(\"response\"))\n",
    "else:\n",
    "    print(\"Error:\", response.status_code, response.text)"
   ]
  },
  {
   "cell_type": "markdown",
   "id": "8eeea11e",
   "metadata": {},
   "source": [
    "# Example usage stream"
   ]
  },
  {
   "cell_type": "code",
   "execution_count": null,
   "id": "8dfae19e",
   "metadata": {},
   "outputs": [],
   "source": [
    "import requests\n",
    "import json\n",
    "\n",
    "\n",
    "api_url = base_url + \"/generate/stream\"\n",
    "\n",
    "# Prompt bạn muốn gửi\n",
    "user_prompt = \"\"\"Problem:\\n                Julia was preparing for a dinner party at her house, where she intended to serve stew.  She noticed that she was out of plastic spoons, so she bought a new package of spoons.  Later, her husband also bought a package of 5 new spoons and gave them to Julia.  While Julia was making the stew, she used three of the spoons to sample her stew.  Later, when she went to set the table, she had a total of 12 spoons.  How many spoons were in the package that Julia bought?\\n\\n                Ground truth solution:\\n                The total number of spoons from Julia and her husband was 12+3=15 spoons.\\nSince the husband bought a package of five spoons, then Julia's package contained 15-5=10 spoons.\\n 10\\n\\n                Dialogue history:\\n                Teacher: Hi Mariana, please talk me through your solution\\nStudent: Sure. I started by letting x be the number of spoons Julia bought. Then I added 5 to x to get the total number of spoons. Next, I subtracted 3 from the total number of spoons to get the number of spoons left. Finally, I set up an equation and solved for x, which was 4. So Julia bought a package of 4 spoons.\\nTeacher: Okay -  you've overcomplicated this. Let's start again. We know Julia has 12 spoons when setting the table. We also know she used three whilst sampling her stew. How many is that altogether?\\nStudent: 12 - 3 = 9. So Julia had 9 spoons left when setting the table.\\nTeacher: No, you need to add as she still has the spoons, 3 have just been used\\nStudent: Oh, right. 12 + 3 = 15. So Julia had 15 spoons altogether. And since her husband gave her 5 spoons, she must have bought 10 spoons.\\n\\n                Generate the next teacher response:\"\"\"\n",
    "\n",
    "# Dữ liệu gửi đi dưới dạng JSON\n",
    "payload = {\"prompt\": user_prompt, \"language\": \"Vietnamese\"}\n",
    "\n",
    "# Headers cho streaming request\n",
    "headers = {\"Content-Type\": \"application/json\", \"Accept\": \"text/event-stream\"}\n",
    "\n",
    "response = requests.post(api_url, json=payload, headers=headers, stream=True)\n",
    "\n",
    "full_response = \"\"\n",
    "\n",
    "# Đọc từng chunk từ response\n",
    "if response.status_code == 200:\n",
    "    for line in response.iter_lines(decode_unicode=True):\n",
    "        if line and line.startswith(\"data: \"):\n",
    "            # Server-Sent Events format: \"data: {json_data}\"\n",
    "            json_data = line[6:]  # Bỏ \"data: \"\n",
    "            data = json.loads(json_data)\n",
    "            print(f\"{data.get('text')}\")"
   ]
  },
  {
   "cell_type": "markdown",
   "id": "f3bbdabc",
   "metadata": {},
   "source": [
    "# Example usage text + image"
   ]
  },
  {
   "cell_type": "code",
   "execution_count": null,
   "id": "374d4f9c",
   "metadata": {},
   "outputs": [],
   "source": [
    "import requests\n",
    "import json\n",
    "import os\n",
    "\n",
    "# URL bạn nhận được sau khi triển khai Cloud Run\n",
    "api_url = base_url + \"generate/image\"\n",
    "\n",
    "image_path = \"image.png\"\n",
    "file_name = os.path.basename(image_path)\n",
    "\n",
    "# Prompt bạn muốn gửi\n",
    "user_prompt = r\"\"\"\n",
    "Giải bài sau:\n",
    "\n",
    "\"\"\"\n",
    "\n",
    "# Đọc file ảnh trước khi đóng\n",
    "with open(image_path, \"rb\") as image_file:\n",
    "    image_data = image_file.read()\n",
    "\n",
    "# Tạo files dictionary với data đã đọc\n",
    "files_to_upload = {\"image\": (file_name, image_data, \"image/png\")}\n",
    "\n",
    "# Tạo form data (không dùng json khi có files)\n",
    "form_data = {\"prompt\": user_prompt, \"language\": \"vi\"}\n",
    "\n",
    "# Gửi yêu cầu POST với form data và files\n",
    "response = requests.post(api_url, data=form_data, files=files_to_upload)\n",
    "\n",
    "if response.status_code == 200:\n",
    "    # In kết quả\n",
    "    result = response.json()\n",
    "    print(\"Response:\", result.get(\"response\"))\n",
    "    if \"image_info\" in result:\n",
    "        print(\"\\nImage info:\", result.get(\"image_info\"))\n",
    "else:\n",
    "    print(\"Error:\", response.status_code)\n",
    "    print(\"Response text:\", response.text)"
   ]
  }
 ],
 "metadata": {
  "kernelspec": {
   "display_name": "base",
   "language": "python",
   "name": "python3"
  },
  "language_info": {
   "codemirror_mode": {
    "name": "ipython",
    "version": 3
   },
   "file_extension": ".py",
   "mimetype": "text/x-python",
   "name": "python",
   "nbconvert_exporter": "python",
   "pygments_lexer": "ipython3",
   "version": "3.12.3"
  }
 },
 "nbformat": 4,
 "nbformat_minor": 5
}
