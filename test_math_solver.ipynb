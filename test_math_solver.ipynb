{
 "cells": [
  {
   "cell_type": "code",
   "execution_count": 2,
   "id": "f583bed6",
   "metadata": {},
   "outputs": [],
   "source": [
    "from IPython.display import display, Math, Latex"
   ]
  },
  {
   "cell_type": "code",
   "execution_count": null,
   "id": "672528cc",
   "metadata": {},
   "outputs": [
    {
     "data": {
      "text/latex": [
       "\\text{LaTeX code: }"
      ],
      "text/plain": [
       "<IPython.core.display.Latex object>"
      ]
     },
     "metadata": {},
     "output_type": "display_data"
    }
   ],
   "source": [
    "import requests\n",
    "import json\n",
    "\n",
    "# URL bạn nhận được sau khi triển khai Cloud Run\n",
    "api_url = (\n",
    "    \"https://learning-assistant-326088373215.asia-southeast1.run.app/generate\"\n",
    ")\n",
    "\n",
    "# Prompt bạn muốn gửi\n",
    "user_prompt = \"\"\"Let\n",
    "\\\\[\\\\mathbf{A} = \\\\renewcommand{\\\\arraystretch}{1.5} \\\\begin{pmatrix} \\\\frac{\\\\sqrt{3}}{2} & 0 & -\\\\frac{1}{2} \\\\\\\\ 0 & -1 & 0 \\\\\\\\ \\\\frac{1}{2} & 0 & \\\\frac{\\\\sqrt{3}}{2} \\\\end{pmatrix} \\\\renewcommand{\\\\arraystretch}{1}.\\\\]\n",
    "Compute $\\\\mathbf{A}^{2018}.$\"\"\"\n",
    "\n",
    "# Dữ liệu gửi đi dưới dạng JSON\n",
    "payload = {\"prompt\": user_prompt}\n",
    "\n",
    "# Gửi yêu cầu POST\n",
    "response = requests.post(api_url, json=payload)\n",
    "\n",
    "if response.status_code == 200:\n",
    "    # In kết quả\n",
    "    result = response.json()\n",
    "    display(Math(response.text))\n",
    "else:\n",
    "    print(\"Error:\", response.status_code, response.text)"
   ]
  },
  {
   "cell_type": "code",
   "execution_count": 12,
   "id": "fffb29a3",
   "metadata": {},
   "outputs": [
    {
     "data": {
      "text/latex": [
       "$\\displaystyle Vấn đề là xác định số lượng thìa trong gói mà Julia đã mua. Julia mua một gói thìa, sau đó chồng cô ấy mua thêm 5 chiếc thìa và đưa cho cô ấy. Sau đó, cô ấy dùng 3 chiếc thìa để nếm món hầm của mình. Cuối cùng, cô ấy có tổng cộng 12 chiếc thìa. Mục tiêu là tìm số thìa ban đầu trong gói Julia đã mua.\n",
       "\n",
       "Gọi $x$ là số chiếc thìa trong gói mà Julia đã mua.\n",
       "Ban đầu, Julia có $x$ chiếc thìa.\n",
       "Sau khi chồng cô ấy mua thêm 5 chiếc thìa, Julia có tổng cộng $x + 5$ chiếc thìa.\n",
       "Sau khi Julia sử dụng 3 chiếc thìa để nếm món hầm, số thìa còn lại là $(x + 5) - 3 = x + 2$.\n",
       "Khi Julia đặt bàn, cô ấy có 12 chiếc thìa, do đó, $x + 2 = 12$.\n",
       "Để giải phương trình này cho $x$, ta trừ 2 từ cả hai vế.\n",
       "$x = 12 - 2$.\n",
       "$x = 10$.\n",
       "\n",
       "Vậy, trong gói thìa mà Julia đã mua có 10 chiếc.$"
      ],
      "text/plain": [
       "<IPython.core.display.Math object>"
      ]
     },
     "metadata": {},
     "output_type": "display_data"
    }
   ],
   "source": [
    "import requests\n",
    "import json\n",
    "\n",
    "# URL bạn nhận được sau khi triển khai Cloud Run\n",
    "api_url = (\n",
    "    \"https://learning-assistant-326088373215.asia-southeast1.run.app/generate\"\n",
    ")\n",
    "\n",
    "# Prompt bạn muốn gửi\n",
    "user_prompt = \"\"\"Julia was preparing for a dinner party at her house, where she intended to serve stew.  She noticed that she was out of plastic spoons, so she bought a new package of spoons.  Later, her husband also bought a package of 5 new spoons and gave them to Julia.  While Julia was making the stew, she used three of the spoons to sample her stew.  Later, when she went to set the table, she had a total of 12 spoons.  How many spoons were in the package that Julia bought?\"\"\"\n",
    "\n",
    "# Dữ liệu gửi đi dưới dạng JSON\n",
    "payload = {\"prompt\": user_prompt}\n",
    "\n",
    "# Gửi yêu cầu POST\n",
    "response = requests.post(api_url, json=payload)\n",
    "\n",
    "if response.status_code == 200:\n",
    "    # In kết quả\n",
    "    result = response.json()\n",
    "    display(Math(result.get('response')))\n",
    "else:\n",
    "    print(\"Error:\", response.status_code, response.text)"
   ]
  },
  {
   "cell_type": "code",
   "execution_count": 9,
   "id": "7c62e9e0",
   "metadata": {},
   "outputs": [
    {
     "data": {
      "text/latex": [
       "$\\displaystyle x^2 + y^2 = z^2$"
      ],
      "text/plain": [
       "<IPython.core.display.Math object>"
      ]
     },
     "metadata": {},
     "output_type": "display_data"
    },
    {
     "data": {
      "text/latex": [
       "$\\displaystyle \\text{LaTeX code: }x^2 + y^2 = z^2$"
      ],
      "text/plain": [
       "<IPython.core.display.Math object>"
      ]
     },
     "metadata": {},
     "output_type": "display_data"
    }
   ],
   "source": [
    "from IPython.display import display, Math, Latex\n",
    "\n",
    "# Display as rendered LaTeX math\n",
    "display(Math(r\"x^2 + y^2 = z^2\"))\n",
    "\n",
    "# Display LaTeX code as plain text (escaped)\n",
    "latex_code = r\"x^2 + y^2 = z^2\"\n",
    "display(Math(r\"\\text{LaTeX code: }\" + latex_code))"
   ]
  },
  {
   "cell_type": "code",
   "execution_count": null,
   "id": "8dfae19e",
   "metadata": {},
   "outputs": [],
   "source": [
    "import requests\n",
    "import json\n",
    "\n",
    "\n",
    "api_url = \"https://learning-assistant-326088373215.asia-southeast1.run.app/generate/stream\"\n",
    "\n",
    "# Prompt bạn muốn gửi\n",
    "user_prompt = \"\"\"Let\n",
    "\\\\[\\\\mathbf{A} = \\\\renewcommand{\\\\arraystretch}{1.5} \\\\begin{pmatrix} \\\\frac{\\\\sqrt{3}}{2} & 0 & -\\\\frac{1}{2} \\\\\\\\ 0 & -1 & 0 \\\\\\\\ \\\\frac{1}{2} & 0 & \\\\frac{\\\\sqrt{3}}{2} \\\\end{pmatrix} \\\\renewcommand{\\\\arraystretch}{1}.\\\\]\n",
    "Compute $\\\\mathbf{A}^{2018}.$\"\"\"\n",
    "\n",
    "# Dữ liệu gửi đi dưới dạng JSON\n",
    "payload = {\"prompt\": user_prompt, \"language\": \"Vietnamese\"}\n",
    "\n",
    "# Headers cho streaming request\n",
    "headers = {\"Content-Type\": \"application/json\", \"Accept\": \"text/event-stream\"}\n",
    "\n",
    "response = requests.post(api_url, json=payload, headers=headers, stream=True)\n",
    "\n",
    "full_response = \"\"\n",
    "\n",
    "# Đọc từng chunk từ response\n",
    "if response.status_code == 200:\n",
    "    for line in response.iter_lines(decode_unicode=True):\n",
    "        if line and line.startswith(\"data: \"):\n",
    "            # Server-Sent Events format: \"data: {json_data}\"\n",
    "            json_data = line[6:]  # Bỏ \"data: \"\n",
    "            data = json.loads(json_data)\n",
    "            print(f\"{data.get('text')}\")"
   ]
  }
 ],
 "metadata": {
  "kernelspec": {
   "display_name": "ida",
   "language": "python",
   "name": "python3"
  },
  "language_info": {
   "codemirror_mode": {
    "name": "ipython",
    "version": 3
   },
   "file_extension": ".py",
   "mimetype": "text/x-python",
   "name": "python",
   "nbconvert_exporter": "python",
   "pygments_lexer": "ipython3",
   "version": "3.11.12"
  }
 },
 "nbformat": 4,
 "nbformat_minor": 5
}
