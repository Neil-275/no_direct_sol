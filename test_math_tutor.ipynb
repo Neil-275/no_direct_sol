{
 "cells": [
  {
   "cell_type": "code",
   "execution_count": 2,
   "id": "8eeea408",
   "metadata": {},
   "outputs": [],
   "source": [
    "base_url = \"https://learning-tutor-326088373215.asia-southeast1.run.app\""
   ]
  },
  {
   "cell_type": "code",
   "execution_count": null,
   "id": "672528cc",
   "metadata": {},
   "outputs": [
    {
     "name": "stdout",
     "output_type": "stream",
     "text": [
      "Exactly! Now, you said Julia had 15 spoons altogether. How many of those spoons came from her husband?\n"
     ]
    }
   ],
   "source": [
    "import requests\n",
    "import json\n",
    "\n",
    "# URL bạn nhận được sau khi triển khai Cloud Run\n",
    "api_url = base_url + \"/generate\"\n",
    "\n",
    "\n",
    "# Prompt bạn muốn gửi\n",
    "user_prompt = \"\"\"Problem:\\n  Julia was preparing for a dinner party at her house, where she intended to serve stew.  She noticed that she was out of plastic spoons, so she bought a new package of spoons.  Later, her husband also bought a package of 5 new spoons and gave them to Julia.  While Julia was making the stew, she used three of the spoons to sample her stew.  Later, when she went to set the table, she had a total of 12 spoons.  How many spoons were in the package that Julia bought?\\n\\n\n",
    "                Ground truth solution:\\n                The total number of spoons from Julia and her husband was 12+3=15 spoons.\\nSince the husband bought a package of five spoons, then Julia's package contained 15-5=10 spoons.\\n\\n                \n",
    "                Dialogue history:\\n     Teacher: Hi Mariana, please talk me through your solution\\nStudent: Sure. I started by letting x be the number of spoons Julia bought. Then I added 5 to x to get the total number of spoons. Next, I subtracted 3 from the total number of spoons to get the number of spoons left. Finally, I set up an equation and solved for x, which was 4. So Julia bought a package of 4 spoons.\\nTeacher: Okay -  you've overcomplicated this. Let's start again. We know Julia has 12 spoons when setting the table. We also know she used three whilst sampling her stew. How many is that altogether?\\nStudent: 12 - 3 = 9. So Julia had 9 spoons left when setting the table.\\nTeacher: No, you need to add as she still has the spoons, 3 have just been used\\nStudent: Oh, right. 12 + 3 = 15. So Julia had 15 spoons altogether. And since her husband gave her 5 spoons, she must have bought 10 spoons.\\n\\n                Generate the next teacher response:\"\"\"\n",
    "\n",
    "# Dữ liệu gửi đi dưới dạng JSON\n",
    "payload = {\"prompt\": user_prompt, \"language\": \"Tiếng Việt\"}\n",
    "\n",
    "# Gửi yêu cầu POST\n",
    "response = requests.post(api_url, json=payload)\n",
    "\n",
    "if response.status_code == 200:\n",
    "    # In kết quả\n",
    "    result = response.json()\n",
    "    print(result.get(\"response\"))\n",
    "else:\n",
    "    print(\"Error:\", response.status_code, response.text)"
   ]
  },
  {
   "cell_type": "code",
   "execution_count": 4,
   "id": "8dfae19e",
   "metadata": {},
   "outputs": [
    {
     "name": "stdout",
     "output_type": "stream",
     "text": [
      "None\n",
      "Good\n",
      " - now do you understand?\n",
      "None\n"
     ]
    }
   ],
   "source": [
    "import requests\n",
    "import json\n",
    "\n",
    "\n",
    "api_url = base_url + \"/generate/stream\"\n",
    "\n",
    "# Prompt bạn muốn gửi\n",
    "user_prompt = \"\"\"\n",
    "                Problem:\\n  Julia was preparing for a dinner party at her house, where she intended to serve stew.  She noticed that she was out of plastic spoons, so she bought a new package of spoons.  Later, her husband also bought a package of 5 new spoons and gave them to Julia.  While Julia was making the stew, she used three of the spoons to sample her stew.  Later, when she went to set the table, she had a total of 12 spoons.  How many spoons were in the package that Julia bought?\\n\\n\n",
    "                Ground truth solution:\\n The total number of spoons from Julia and her husband was 12+3=15 spoons.\\nSince the husband bought a package of five spoons, then Julia's package contained 15-5=10 spoons.\\n\\n                \n",
    "                Dialogue history:\\n Teacher: Hi Mariana, please talk me through your solution\\nStudent: Sure. I started by letting x be the number of spoons Julia bought. Then I added 5 to x to get the total number of spoons. Next, I subtracted 3 from the total number of spoons to get the number of spoons left. Finally, I set up an equation and solved for x, which was 4. So Julia bought a package of 4 spoons.\\nTeacher: Okay -  you've overcomplicated this. Let's start again. We know Julia has 12 spoons when setting the table. We also know she used three whilst sampling her stew. How many is that altogether?\\nStudent: 12 - 3 = 9. So Julia had 9 spoons left when setting the table.\\nTeacher: No, you need to add as she still has the spoons, 3 have just been used\\nStudent: Oh, right. 12 + 3 = 15. So Julia had 15 spoons altogether. And since her husband gave her 5 spoons, she must have bought 10 spoons.\\n\\n                \n",
    "                Generate the next teacher response:\"\"\"\n",
    "\n",
    "# Dữ liệu gửi đi dưới dạng JSON\n",
    "payload = {\"prompt\": user_prompt, \"language\": \"Vietnamese\"}\n",
    "\n",
    "# Headers cho streaming request\n",
    "headers = {\"Content-Type\": \"application/json\", \"Accept\": \"text/event-stream\"}\n",
    "\n",
    "response = requests.post(api_url, json=payload, headers=headers, stream=True)\n",
    "\n",
    "full_response = \"\"\n",
    "\n",
    "# Đọc từng chunk từ response\n",
    "if response.status_code == 200:\n",
    "    for line in response.iter_lines(decode_unicode=True):\n",
    "        if line and line.startswith(\"data: \"):\n",
    "            # Server-Sent Events format: \"data: {json_data}\"\n",
    "            json_data = line[6:]  # Bỏ \"data: \"\n",
    "            data = json.loads(json_data)\n",
    "            print(f\"{data.get('text')}\")"
   ]
  }
 ],
 "metadata": {
  "kernelspec": {
   "display_name": "ida",
   "language": "python",
   "name": "python3"
  },
  "language_info": {
   "codemirror_mode": {
    "name": "ipython",
    "version": 3
   },
   "file_extension": ".py",
   "mimetype": "text/x-python",
   "name": "python",
   "nbconvert_exporter": "python",
   "pygments_lexer": "ipython3",
   "version": "3.11.12"
  }
 },
 "nbformat": 4,
 "nbformat_minor": 5
}
