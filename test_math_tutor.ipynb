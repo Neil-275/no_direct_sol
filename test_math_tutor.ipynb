{
 "cells": [
  {
   "cell_type": "code",
   "execution_count": 1,
   "id": "8eeea408",
   "metadata": {},
   "outputs": [],
   "source": [
    "base_url = \"https://learning-tutor-326088373215.asia-southeast1.run.app\""
   ]
  },
  {
   "cell_type": "code",
   "execution_count": 6,
   "id": "672528cc",
   "metadata": {},
   "outputs": [],
   "source": [
    "import requests\n",
    "import json\n",
    "\n",
    "# URL bạn nhận được sau khi triển khai Cloud Run\n",
    "api_url = base_url + \"/generate\"\n",
    "\n",
    "\n",
    "# Prompt bạn muốn gửi\n",
    "def get_response(prompt):\n",
    "# Dữ liệu gửi đi dưới dạng JSON\n",
    "    payload = {\"prompt\": prompt, \"language\": \"Tiếng Việt\"}\n",
    "\n",
    "    # Gửi yêu cầu POST\n",
    "    response = requests.post(api_url, json=payload)\n",
    "\n",
    "    if response.status_code == 200:\n",
    "        # In kết quả\n",
    "        result = response.json()\n",
    "        print(result.get(\"response\"))\n",
    "    else:\n",
    "        print(\"Error:\", response.status_code, response.text)"
   ]
  },
  {
   "cell_type": "code",
   "execution_count": 8,
   "id": "19e80e61",
   "metadata": {},
   "outputs": [
    {
     "name": "stdout",
     "output_type": "stream",
     "text": [
      "https://learning-tutor-326088373215.asia-southeast1.run.app/generate\n"
     ]
    }
   ],
   "source": [
    "print(api_url)"
   ]
  },
  {
   "cell_type": "code",
   "execution_count": 4,
   "id": "93e8362a",
   "metadata": {},
   "outputs": [],
   "source": [
    "user_prompt = \"\"\"\n",
    "Problem: Một kho lạnh đang ở nhiệt độ 5 oC, một công nhân cần đặt chế độ làm cho nhiệt độ của kho trung bình cứ mỗi phút giảm đi 2 oC. Hỏi sau 4 phút nữa nhiệt độ trong kho là bao nhiêu?\n",
    "        Ground truth solution: Nhiệt độ ban đầu của kho là $5$ oC.\n",
    "\n",
    "Mỗi phút nhiệt độ giảm đi $2$ oC.\n",
    "\n",
    "Để tìm tổng số độ mà nhiệt độ giảm sau $4$ phút, chúng ta nhân tốc độ giảm với số phút.\n",
    "Tổng số độ giảm là $2 \\times 4 = 8$ oC.\n",
    "\n",
    "Nhiệt độ cuối cùng trong kho được tính bằng cách lấy nhiệt độ ban đầu trừ đi tổng số độ giảm.\n",
    "Nhiệt độ cuối cùng là $5 - 8 = -3$ oC.\n",
    "\n",
    "Sau $4$ phút, nhiệt độ trong kho là $-3$ oC.\n",
    "        Dialogue_history: Teacher: Chào bạn, tôi là gia sư toán, có bằng tốt nghiệp xuất sắc sư phạm toán. Tôi có thể giúp gì được cho bạn\n",
    "Student: Hãy giúp tôi giải bài toán sau: Một kho lạnh đang ở nhiệt độ 5 oC, một công nhân cần đặt chế độ làm cho nhiệt độ của kho trung bình cứ mỗi phút giảm đi 2 oC. Hỏi sau 4 phút nữa nhiệt độ trong kho là bao nhiêu?\n",
    "Teacher: Chúng ta cùng phân tích bài toán này nhé!\n",
    "\n",
    "1. **Hiểu Bài Toán:**\n",
    "   - Nhiệt độ ban đầu của kho lạnh là 5 °C.\n",
    "   - Nhiệt độ giảm mỗi phút là 2 °C.\n",
    "   - Thời gian là 4 phút.\n",
    "\n",
    "2. **Phân Tích:**\n",
    "   - Bạn cần tính tổng số độ giảm nhiệt độ sau 4 phút.\n",
    "\n",
    "3. **Lập Kế Hoạch Giải Quyết:**\n",
    "   - Bạn có thể tính tổng độ giảm bằng cách nhân số độ giảm mỗi phút với số phút.\n",
    "\n",
    "4. **Cung Cấp Gợi Ý:**\n",
    "   - Công thức tính tổng độ giảm nhiệt độ là:\n",
    "     \\[\n",
    "     \\text{Tổng độ giảm} = \\text{Độ giảm mỗi phút} \\times \\text{Số phút}\n",
    "     \\]\n",
    "   - Ở đây, độ giảm mỗi phút là 2 °C và số phút là 4.\n",
    "\n",
    "Bây giờ, bạn hãy thử tính tổng độ giảm nhiệt độ nhé!\n",
    "Student: Từ phút 1 đến phút thứ 4 thì nhiệt độ giảm 3 lần, vậy kết quả là 5 - 3 * 2 = -1\n",
    "\n",
    "\"\"\"\n"
   ]
  },
  {
   "cell_type": "code",
   "execution_count": 7,
   "id": "16f9fba1",
   "metadata": {},
   "outputs": [
    {
     "name": "stdout",
     "output_type": "stream",
     "text": [
      "Sau 4 phút, nhiệt độ giảm $2 \\times 4 = 8$ oC.\n"
     ]
    }
   ],
   "source": [
    "get_response(user_prompt)"
   ]
  },
  {
   "cell_type": "code",
   "execution_count": 3,
   "id": "8dfae19e",
   "metadata": {},
   "outputs": [
    {
     "name": "stdout",
     "output_type": "stream",
     "text": [
      "None\n",
      "Exactly\n",
      " - good work!\n",
      "None\n"
     ]
    }
   ],
   "source": [
    "import requests\n",
    "import json\n",
    "\n",
    "\n",
    "api_url = base_url + \"/generate/stream\"\n",
    "\n",
    "# Prompt bạn muốn gửi\n",
    "user_prompt = \"\"\"\n",
    "                Problem:\\n  Julia was preparing for a dinner party at her house, where she intended to serve stew.  She noticed that she was out of plastic spoons, so she bought a new package of spoons.  Later, her husband also bought a package of 5 new spoons and gave them to Julia.  While Julia was making the stew, she used three of the spoons to sample her stew.  Later, when she went to set the table, she had a total of 12 spoons.  How many spoons were in the package that Julia bought?\\n\\n\n",
    "                Ground truth solution:\\n The total number of spoons from Julia and her husband was 12+3=15 spoons.\\nSince the husband bought a package of five spoons, then Julia's package contained 15-5=10 spoons.\\n\\n                \n",
    "                Dialogue history:\\n Teacher: Hi Mariana, please talk me through your solution\\nStudent: Sure. I started by letting x be the number of spoons Julia bought. Then I added 5 to x to get the total number of spoons. Next, I subtracted 3 from the total number of spoons to get the number of spoons left. Finally, I set up an equation and solved for x, which was 4. So Julia bought a package of 4 spoons.\\nTeacher: Okay -  you've overcomplicated this. Let's start again. We know Julia has 12 spoons when setting the table. We also know she used three whilst sampling her stew. How many is that altogether?\\nStudent: 12 - 3 = 9. So Julia had 9 spoons left when setting the table.\\nTeacher: No, you need to add as she still has the spoons, 3 have just been used\\nStudent: Oh, right. 12 + 3 = 15. So Julia had 15 spoons altogether. And since her husband gave her 5 spoons, she must have bought 10 spoons.\\n\\n                \n",
    "                Generate the next teacher response:\"\"\"\n",
    "\n",
    "# Dữ liệu gửi đi dưới dạng JSON\n",
    "payload = {\"prompt\": user_prompt, \"language\": \"Vietnamese\"}\n",
    "\n",
    "# Headers cho streaming request\n",
    "headers = {\"Content-Type\": \"application/json\", \"Accept\": \"text/event-stream\"}\n",
    "\n",
    "response = requests.post(api_url, json=payload, headers=headers, stream=True)\n",
    "\n",
    "full_response = \"\"\n",
    "\n",
    "# Đọc từng chunk từ response\n",
    "if response.status_code == 200:\n",
    "    for line in response.iter_lines(decode_unicode=True):\n",
    "        if line and line.startswith(\"data: \"):\n",
    "            # Server-Sent Events format: \"data: {json_data}\"\n",
    "            json_data = line[6:]  # Bỏ \"data: \"\n",
    "            data = json.loads(json_data)\n",
    "            print(f\"{data.get('text')}\")"
   ]
  },
  {
   "cell_type": "code",
   "execution_count": 9,
   "id": "19fd5d7c",
   "metadata": {},
   "outputs": [
    {
     "name": "stdout",
     "output_type": "stream",
     "text": [
      "\n",
      "$$\n",
      "\\text{Tổng độ giảm} = 2 \\, \\text{°C/phút} \\times 4 \\, \\text{phút} = 8 \\, \\text{°C}\n",
      "$$\n",
      "\n"
     ]
    }
   ],
   "source": [
    "import re\n",
    "\n",
    "def convert_latex_to_markdown(text):\n",
    "    # Pattern to match the entire LaTeX block\n",
    "    pattern = r\"\\\\\\[(.*?)\\\\\\]\"\n",
    "    \n",
    "    # Function to replace each match with markdown LaTeX block\n",
    "    def replacer(match):\n",
    "        content = match.group(1).strip()\n",
    "        return f\"$$\\n{content}\\n$$\"\n",
    "\n",
    "    # Replace using re.sub with DOTALL to capture multiline LaTeX\n",
    "    new_text = re.sub(pattern, replacer, text, flags=re.DOTALL)\n",
    "    \n",
    "    return new_text\n",
    "\n",
    "# Example usage\n",
    "input_text = \"\"\"\n",
    "\\\\[\n",
    "\\\\text{Tổng độ giảm} = 2 \\\\, \\\\text{°C/phút} \\\\times 4 \\\\, \\\\text{phút} = 8 \\\\, \\\\text{°C}\n",
    "\\\\]\n",
    "\"\"\"\n",
    "\n",
    "output_text = convert_latex_to_markdown(input_text)\n",
    "print(output_text)\n"
   ]
  }
 ],
 "metadata": {
  "kernelspec": {
   "display_name": "ida",
   "language": "python",
   "name": "python3"
  },
  "language_info": {
   "codemirror_mode": {
    "name": "ipython",
    "version": 3
   },
   "file_extension": ".py",
   "mimetype": "text/x-python",
   "name": "python",
   "nbconvert_exporter": "python",
   "pygments_lexer": "ipython3",
   "version": "3.11.12"
  }
 },
 "nbformat": 4,
 "nbformat_minor": 5
}
